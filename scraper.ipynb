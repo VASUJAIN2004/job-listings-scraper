{
 "cells": [
  {
   "cell_type": "markdown",
   "id": "b53d535e-6812-4b73-b86a-3377065c361b",
   "metadata": {},
   "source": [
    "# Job Listings Web Scraper"
   ]
  },
  {
   "cell_type": "markdown",
   "id": "6709353d-57ec-48d6-9290-d9342df56688",
   "metadata": {},
   "source": [
    "## WEB SCRAPING DATA FROM INTERNSHALA"
   ]
  },
  {
   "cell_type": "code",
   "execution_count": 1,
   "id": "87a98363-f4f8-4051-99a5-c58ebb1b7b5e",
   "metadata": {},
   "outputs": [],
   "source": [
    "import requests\n",
    "from bs4 import BeautifulSoup\n",
    "import pandas as pd"
   ]
  },
  {
   "cell_type": "code",
   "execution_count": 18,
   "id": "dc27a85a-084e-4391-953e-2e2033339a69",
   "metadata": {},
   "outputs": [
    {
     "name": "stdout",
     "output_type": "stream",
     "text": [
      "Jobs scraped and saved to jobs.csv\n"
     ]
    }
   ],
   "source": [
    "\n",
    "def scrape_jobs():\n",
    "    url = \"https://internshala.com/internships/python-internship\"\n",
    "    \n",
    "    headers = {\n",
    "        \"User-Agent\": \"Mozilla/5.0 (Windows NT 10.0; Win64; x64) AppleWebKit/537.36 (KHTML, like Gecko) Chrome/139.0.0.0 Safari/537.36\"\n",
    "    }\n",
    "    \n",
    "    response = requests.get(url, headers=headers)\n",
    "\n",
    "    soup = BeautifulSoup(response.text, \"html.parser\")\n",
    "    jobs = []\n",
    "\n",
    "    # Find all internship cards\n",
    "    job_cards = soup.find_all(\"div\", class_=\"internship_meta\")\n",
    "\n",
    "    for card in job_cards:\n",
    "        # Job Title\n",
    "        title_tag = card.find(\"a\", class_=\"view_detail_button\")\n",
    "        title = title_tag.text.strip() if title_tag else \"N/A\"\n",
    "\n",
    "        # Company Name\n",
    "        company_tag = card.find(\"a\", class_=\"link_display_like_text\")\n",
    "        company = company_tag.text.strip() if company_tag else \"N/A\"\n",
    "\n",
    "        # Location\n",
    "        location_tag = card.find(\"a\", class_=\"location_link\")\n",
    "        location = location_tag.text.strip() if location_tag else \"N/A\"\n",
    "\n",
    "        # Stipend\n",
    "        stipend_tag = card.find(\"span\", class_=\"stipend\")\n",
    "        stipend = stipend_tag.text.strip() if stipend_tag else \"N/A\"\n",
    "\n",
    "        jobs.append([title, company, location, stipend])\n",
    "\n",
    "    # Save to CSV\n",
    "    df = pd.DataFrame(jobs, columns=[\"Job Title\", \"Company\", \"Location\", \"Stipend\"])\n",
    "    df.to_csv(\"jobs.csv\", index=False)\n",
    "    print(\"Jobs scraped and saved to jobs.csv\")\n",
    "\n",
    "if __name__ == \"__main__\":\n",
    "    scrape_jobs()\n"
   ]
  },
  {
   "cell_type": "code",
   "execution_count": null,
   "id": "f3d83c20-013a-4f44-a34f-f0ffc80ae275",
   "metadata": {},
   "outputs": [],
   "source": []
  }
 ],
 "metadata": {
  "kernelspec": {
   "display_name": "Python 3 (ipykernel)",
   "language": "python",
   "name": "python3"
  },
  "language_info": {
   "codemirror_mode": {
    "name": "ipython",
    "version": 3
   },
   "file_extension": ".py",
   "mimetype": "text/x-python",
   "name": "python",
   "nbconvert_exporter": "python",
   "pygments_lexer": "ipython3",
   "version": "3.13.5"
  }
 },
 "nbformat": 4,
 "nbformat_minor": 5
}
